{
 "cells": [
  {
   "cell_type": "markdown",
   "id": "a09e6d54-bf3f-4632-b299-bd49d5c80d5f",
   "metadata": {},
   "source": [
    "![Two data scientists working on a dashboard.](hr-image-small.png)\n",
    "\n",
    "A common problem when creating models to generate business value from data is that the datasets can be so large that it can take days for the model to generate predictions. Ensuring that your dataset is stored as efficiently as possible is crucial for allowing these models to run on a more reasonable timescale without having to reduce the size of the dataset.\n",
    "\n",
    "You've been hired by a major online data science training provider called *Training Data Ltd.* to clean up one of their largest customer datasets. This dataset will eventually be used to predict whether their students are looking for a new job or not, information that they will then use to direct them to prospective recruiters.\n",
    "\n",
    "You've been given access to `customer_train.csv`, which is a subset of their entire customer dataset, so you can create a proof-of-concept of a much more efficient storage solution. The dataset contains anonymized student information, and whether they were looking for a new job or not during training:\n",
    "\n",
    "| Column       | Description                                  |\n",
    "|------------- |--------------------------------------------- |\n",
    "| `student_id`   | A unique ID for each student.                 |\n",
    "| `city`  | A code for the city the student lives in.  |\n",
    "| `city_development_index` | A scaled development index for the city.       |\n",
    "| `gender` | The student's gender.       |\n",
    "| `relevant_experience` | An indicator of the student's work relevant experience.       |\n",
    "| `enrolled_university` | The type of university course enrolled in (if any).       |\n",
    "| `education_level` | The student's education level.       |\n",
    "| `major_discipline` | The educational discipline of the student.       |\n",
    "| `experience` | The student's total work experience (in years).       |\n",
    "| `company_size` | The number of employees at the student's current employer.       |\n",
    "| `last_new_job` | The number of years between the student's current and previous jobs.       |\n",
    "| `training_hours` | The number of hours of training completed.       |\n",
    "| `job_change` | An indicator of whether the student is looking for a new job (`1`) or not (`0`).       |"
   ]
  },
  {
   "cell_type": "code",
   "execution_count": 1,
   "id": "7dacda55-041c-4985-87ee-af451dcd6d8c",
   "metadata": {
    "executionCancelledAt": null,
    "executionTime": 36,
    "lastExecutedAt": 1703966488451,
    "lastScheduledRunId": null,
    "lastSuccessfullyExecutedCode": "# Start your code here!\nimport pandas as pd\n#Load ds_jobs dataframe\nds_jobs = pd.read_csv(\"customer_train.csv\")"
   },
   "outputs": [],
   "source": [
    "# Start your code here!\n",
    "import pandas as pd\n",
    "#Load ds_jobs dataframe\n",
    "ds_jobs = pd.read_csv(\"customer_train.csv\")"
   ]
  },
  {
   "cell_type": "code",
   "execution_count": 2,
   "id": "01de55d1-c4ee-4b6a-a3ea-99182f25ba38",
   "metadata": {
    "executionCancelledAt": null,
    "executionTime": 61,
    "lastExecutedAt": 1703966488512,
    "lastScheduledRunId": null,
    "lastSuccessfullyExecutedCode": "print(ds_jobs.head())\nprint(ds_jobs.info())",
    "outputsMetadata": {
     "0": {
      "height": 616,
      "type": "stream"
     }
    }
   },
   "outputs": [
    {
     "name": "stdout",
     "output_type": "stream",
     "text": [
      "   student_id      city  city_development_index gender  \\\n",
      "0        8949  city_103                   0.920   Male   \n",
      "1       29725   city_40                   0.776   Male   \n",
      "2       11561   city_21                   0.624    NaN   \n",
      "3       33241  city_115                   0.789    NaN   \n",
      "4         666  city_162                   0.767   Male   \n",
      "\n",
      "       relevant_experience enrolled_university education_level  \\\n",
      "0  Has relevant experience       no_enrollment        Graduate   \n",
      "1   No relevant experience       no_enrollment        Graduate   \n",
      "2   No relevant experience    Full time course        Graduate   \n",
      "3   No relevant experience                 NaN        Graduate   \n",
      "4  Has relevant experience       no_enrollment         Masters   \n",
      "\n",
      "  major_discipline experience company_size    company_type last_new_job  \\\n",
      "0             STEM        >20          NaN             NaN            1   \n",
      "1             STEM         15        50-99         Pvt Ltd           >4   \n",
      "2             STEM          5          NaN             NaN        never   \n",
      "3  Business Degree         <1          NaN         Pvt Ltd        never   \n",
      "4             STEM        >20        50-99  Funded Startup            4   \n",
      "\n",
      "   training_hours  job_change  \n",
      "0              36           1  \n",
      "1              47           0  \n",
      "2              83           0  \n",
      "3              52           1  \n",
      "4               8           0  \n",
      "<class 'pandas.core.frame.DataFrame'>\n",
      "RangeIndex: 19158 entries, 0 to 19157\n",
      "Data columns (total 14 columns):\n",
      " #   Column                  Non-Null Count  Dtype  \n",
      "---  ------                  --------------  -----  \n",
      " 0   student_id              19158 non-null  int64  \n",
      " 1   city                    19158 non-null  object \n",
      " 2   city_development_index  19158 non-null  float64\n",
      " 3   gender                  14650 non-null  object \n",
      " 4   relevant_experience     19158 non-null  object \n",
      " 5   enrolled_university     18772 non-null  object \n",
      " 6   education_level         18698 non-null  object \n",
      " 7   major_discipline        16345 non-null  object \n",
      " 8   experience              19093 non-null  object \n",
      " 9   company_size            13220 non-null  object \n",
      " 10  company_type            13018 non-null  object \n",
      " 11  last_new_job            18735 non-null  object \n",
      " 12  training_hours          19158 non-null  int64  \n",
      " 13  job_change              19158 non-null  int64  \n",
      "dtypes: float64(1), int64(3), object(10)\n",
      "memory usage: 2.0+ MB\n",
      "None\n"
     ]
    }
   ],
   "source": [
    "print(ds_jobs.head())\n",
    "print(ds_jobs.info())"
   ]
  },
  {
   "cell_type": "code",
   "execution_count": 3,
   "id": "a4c58a09-19d2-46d2-a9e5-916270f133b2",
   "metadata": {
    "executionCancelledAt": null,
    "executionTime": 51,
    "lastExecutedAt": 1703966488563,
    "lastScheduledRunId": null,
    "lastSuccessfullyExecutedCode": "#student_id should be integer, which is already the case\nds_jobs_clean= pd.DataFrame()\nds_jobs_clean['student_id'] = ds_jobs['student_id'].astype('int32')"
   },
   "outputs": [],
   "source": [
    "#student_id should be integer, which is already the case\n",
    "ds_jobs_clean= pd.DataFrame()\n",
    "ds_jobs_clean['student_id'] = ds_jobs['student_id'].astype('int32')"
   ]
  },
  {
   "cell_type": "code",
   "execution_count": 4,
   "id": "56670616-104b-4e9e-a171-fe6512f43930",
   "metadata": {
    "executionCancelledAt": null,
    "executionTime": 51,
    "lastExecutedAt": 1703966488615,
    "lastScheduledRunId": null,
    "lastSuccessfullyExecutedCode": "#City should be a nomial categorical data valiables\nds_jobs_clean['city'] = ds_jobs['city'].astype('category')"
   },
   "outputs": [],
   "source": [
    "#City should be a nomial categorical data valiables\n",
    "ds_jobs_clean['city'] = ds_jobs['city'].astype('category')"
   ]
  },
  {
   "cell_type": "code",
   "execution_count": 5,
   "id": "1612b378-3212-406f-8596-aeefa3f1b0d9",
   "metadata": {
    "executionCancelledAt": null,
    "executionTime": 55,
    "lastExecutedAt": 1703966488671,
    "lastScheduledRunId": null,
    "lastSuccessfullyExecutedCode": "#City_development_index should be float, which is the case already\nds_jobs_clean['city_development_index'] = ds_jobs.city_development_index.astype(\"float16\")"
   },
   "outputs": [],
   "source": [
    "#City_development_index should be float, which is the case already\n",
    "ds_jobs_clean['city_development_index'] = ds_jobs.city_development_index.astype(\"float16\")"
   ]
  },
  {
   "cell_type": "code",
   "execution_count": 6,
   "id": "08802417-9263-4363-a8c2-4c0ba9ff5d3c",
   "metadata": {
    "executionCancelledAt": null,
    "executionTime": 50,
    "lastExecutedAt": 1703966488723,
    "lastScheduledRunId": null,
    "lastSuccessfullyExecutedCode": "#Gender could be a nomial categorical variable\nds_jobs_clean['gender'] = ds_jobs['gender'].astype('category')"
   },
   "outputs": [],
   "source": [
    "#Gender could be a nomial categorical variable\n",
    "ds_jobs_clean['gender'] = ds_jobs['gender'].astype('category')"
   ]
  },
  {
   "cell_type": "code",
   "execution_count": 7,
   "id": "fcecbbf5-2a6e-48f5-809e-09b4ba48c2cc",
   "metadata": {
    "executionCancelledAt": null,
    "executionTime": 57,
    "lastExecutedAt": 1703966488781,
    "lastScheduledRunId": null,
    "lastSuccessfullyExecutedCode": "#inspect relevant_experience\nprint(ds_jobs.relevant_experience.unique())\nmy_series0 = pd.Categorical(ds_jobs.relevant_experience, categories=[\"No relevant experience\", \"Has relevant experience\"], ordered = True)",
    "outputsMetadata": {
     "0": {
      "height": 37,
      "type": "stream"
     }
    }
   },
   "outputs": [
    {
     "name": "stdout",
     "output_type": "stream",
     "text": [
      "['Has relevant experience' 'No relevant experience']\n"
     ]
    }
   ],
   "source": [
    "#inspect relevant_experience\n",
    "print(ds_jobs.relevant_experience.unique())\n",
    "my_series0 = pd.Categorical(ds_jobs.relevant_experience, categories=[\"No relevant experience\", \"Has relevant experience\"], ordered = True)"
   ]
  },
  {
   "cell_type": "code",
   "execution_count": 8,
   "id": "f4e61bd9-ac3c-4a71-a9f2-6dbf3bf8d061",
   "metadata": {
    "executionCancelledAt": null,
    "executionTime": 50,
    "lastExecutedAt": 1703966488831,
    "lastScheduledRunId": null,
    "lastSuccessfullyExecutedCode": "#revelant_expereince should be a categorical variable\nds_jobs_clean['relevant_experience'] = my_series0\n"
   },
   "outputs": [],
   "source": [
    "#revelant_expereince should be a categorical variable\n",
    "ds_jobs_clean['relevant_experience'] = my_series0\n"
   ]
  },
  {
   "cell_type": "code",
   "execution_count": 9,
   "id": "ed736a50-23b3-4c86-945c-c82b90bd2690",
   "metadata": {
    "executionCancelledAt": null,
    "executionTime": 51,
    "lastExecutedAt": 1703966488883,
    "lastScheduledRunId": null,
    "lastSuccessfullyExecutedCode": "#inspect enrolled_university\nds_jobs.enrolled_university.unique()\nmy_series1 = pd.Categorical(ds_jobs.enrolled_university, categories = [\"no_enrollment\", \"Part time course\", \"Full time course\"], ordered= True)"
   },
   "outputs": [],
   "source": [
    "#inspect enrolled_university\n",
    "ds_jobs.enrolled_university.unique()\n",
    "my_series1 = pd.Categorical(ds_jobs.enrolled_university, categories = [\"no_enrollment\", \"Part time course\", \"Full time course\"], ordered= True)"
   ]
  },
  {
   "cell_type": "code",
   "execution_count": 10,
   "id": "db9e65ef-e378-41ec-87b3-70a8fe41a58c",
   "metadata": {
    "executionCancelledAt": null,
    "executionTime": 51,
    "lastExecutedAt": 1703966488935,
    "lastScheduledRunId": null,
    "lastSuccessfullyExecutedCode": "#Enrolled_in_University should be nominal category\nds_jobs_clean['enrolled_university'] = my_series1"
   },
   "outputs": [],
   "source": [
    "#Enrolled_in_University should be nominal category\n",
    "ds_jobs_clean['enrolled_university'] = my_series1"
   ]
  },
  {
   "cell_type": "code",
   "execution_count": 11,
   "id": "e1e89182-daa6-41d5-b268-def805309ee6",
   "metadata": {
    "executionCancelledAt": null,
    "executionTime": 51,
    "lastExecutedAt": 1703966488987,
    "lastScheduledRunId": null,
    "lastSuccessfullyExecutedCode": "#inspect education_level\nds_jobs.education_level.unique()\nmy_series2 = pd.Categorical(ds_jobs.education_level,categories= [\"Primary School\", \"High School\", \"Graduate\", \"Masters\", \"Phd\"], ordered = True)"
   },
   "outputs": [],
   "source": [
    "#inspect education_level\n",
    "ds_jobs.education_level.unique()\n",
    "my_series2 = pd.Categorical(ds_jobs.education_level,categories= [\"Primary School\", \"High School\", \"Graduate\", \"Masters\", \"Phd\"], ordered = True)"
   ]
  },
  {
   "cell_type": "code",
   "execution_count": 12,
   "id": "fcdc46bb-7083-4d25-ba98-156007615f89",
   "metadata": {
    "executionCancelledAt": null,
    "executionTime": 55,
    "lastExecutedAt": 1703966489043,
    "lastScheduledRunId": null,
    "lastSuccessfullyExecutedCode": "#Education_level should be nomial categorical variable\nds_jobs_clean['education_level'] = my_series2"
   },
   "outputs": [],
   "source": [
    "#Education_level should be nomial categorical variable\n",
    "ds_jobs_clean['education_level'] = my_series2"
   ]
  },
  {
   "cell_type": "code",
   "execution_count": 13,
   "id": "561a4ece-c50b-445a-ab58-af0daf27219e",
   "metadata": {
    "executionCancelledAt": null,
    "executionTime": 51,
    "lastExecutedAt": 1703966489095,
    "lastScheduledRunId": null,
    "lastSuccessfullyExecutedCode": "#Major discpline should be nomial categorical variable\nds_jobs_clean['major_discipline'] = ds_jobs.major_discipline.astype('category')"
   },
   "outputs": [],
   "source": [
    "#Major discpline should be nomial categorical variable\n",
    "ds_jobs_clean['major_discipline'] = ds_jobs.major_discipline.astype('category')"
   ]
  },
  {
   "cell_type": "code",
   "execution_count": 14,
   "id": "f698f8c7-6551-4684-8d67-016b3c0fdaad",
   "metadata": {
    "executionCancelledAt": null,
    "executionTime": 51,
    "lastExecutedAt": 1703966489147,
    "lastScheduledRunId": null,
    "lastSuccessfullyExecutedCode": "#Experience should be ordinal categorical data\nmy_series = pd.Categorical(ds_jobs.experience, categories=['0','<1', '1','2','3','4','5','6','7','8','9','10',\\\n                                                           '11','12','13','14','15','16','17','18','19','20','>20'], ordered = True)\n\nds_jobs_clean['experience'] = my_series"
   },
   "outputs": [],
   "source": [
    "#Experience should be ordinal categorical data\n",
    "my_series = pd.Categorical(ds_jobs.experience, categories=['0','<1', '1','2','3','4','5','6','7','8','9','10',\\\n",
    "                                                           '11','12','13','14','15','16','17','18','19','20','>20'], ordered = True)\n",
    "\n",
    "ds_jobs_clean['experience'] = my_series"
   ]
  },
  {
   "cell_type": "code",
   "execution_count": 15,
   "id": "6f456404-5fb8-4730-b9ff-a42dc2497f06",
   "metadata": {
    "executionCancelledAt": null,
    "executionTime": 51,
    "lastExecutedAt": 1703966489199,
    "lastScheduledRunId": null,
    "lastSuccessfullyExecutedCode": "#Company_size should be ordinal categorical data\nds_jobs.company_size.unique()\nmy_series1 = pd.Categorical(ds_jobs.company_size, categories=['<10', '10-49', '50-99','100-499', '500-999', '1000-4999', '5000-9999', '10000+'], ordered = True)\nds_jobs_clean['company_size'] = my_series1"
   },
   "outputs": [],
   "source": [
    "#Company_size should be ordinal categorical data\n",
    "ds_jobs.company_size.unique()\n",
    "my_series1 = pd.Categorical(ds_jobs.company_size, categories=['<10', '10-49', '50-99','100-499', '500-999', '1000-4999', '5000-9999', '10000+'], ordered = True)\n",
    "ds_jobs_clean['company_size'] = my_series1"
   ]
  },
  {
   "cell_type": "code",
   "execution_count": 16,
   "id": "eb8522ec-85df-4bac-bc56-d4f0f3706fe8",
   "metadata": {
    "executionCancelledAt": null,
    "executionTime": 51,
    "lastExecutedAt": 1703966489251,
    "lastScheduledRunId": null,
    "lastSuccessfullyExecutedCode": "#Compnay type should be nominal categorical data\nds_jobs_clean['company_type'] = ds_jobs.company_type.astype('category')"
   },
   "outputs": [],
   "source": [
    "#Compnay type should be nominal categorical data\n",
    "ds_jobs_clean['company_type'] = ds_jobs.company_type.astype('category')"
   ]
  },
  {
   "cell_type": "code",
   "execution_count": 17,
   "id": "9483f5e3-5e39-4e5f-b174-3b21653223e8",
   "metadata": {
    "executionCancelledAt": null,
    "executionTime": 51,
    "lastExecutedAt": 1703966489303,
    "lastScheduledRunId": null,
    "lastSuccessfullyExecutedCode": "#last_new_job should be ordinal categorical data\nds_jobs.last_new_job.unique()\nmy_series2 = pd.Categorical(ds_jobs.last_new_job, categories=['never', '1', '2', '3', '4', '>4'], ordered = True)\nds_jobs_clean['last_new_job'] = my_series2"
   },
   "outputs": [],
   "source": [
    "#last_new_job should be ordinal categorical data\n",
    "ds_jobs.last_new_job.unique()\n",
    "my_series2 = pd.Categorical(ds_jobs.last_new_job, categories=['never', '1', '2', '3', '4', '>4'], ordered = True)\n",
    "ds_jobs_clean['last_new_job'] = my_series2"
   ]
  },
  {
   "cell_type": "code",
   "execution_count": 18,
   "id": "cf8cf26d-a758-4750-adac-766a7653589a",
   "metadata": {
    "executionCancelledAt": null,
    "executionTime": 55,
    "lastExecutedAt": 1703966489359,
    "lastScheduledRunId": null,
    "lastSuccessfullyExecutedCode": "#Training hours should be int, which is already the case\nds_jobs_clean['training_hours'] = ds_jobs.training_hours.astype('int32')"
   },
   "outputs": [],
   "source": [
    "#Training hours should be int, which is already the case\n",
    "ds_jobs_clean['training_hours'] = ds_jobs.training_hours.astype('int32')"
   ]
  },
  {
   "cell_type": "code",
   "execution_count": 19,
   "id": "6c9aa434-a88f-48cf-9741-c24ebdfb3f83",
   "metadata": {
    "executionCancelledAt": null,
    "executionTime": 47,
    "lastExecutedAt": 1703966489407,
    "lastScheduledRunId": null,
    "lastSuccessfullyExecutedCode": "#job_change should be nominal categorical data\nds_jobs_clean['job_change'] = ds_jobs.job_change.astype('int32')"
   },
   "outputs": [],
   "source": [
    "#job_change should be nominal categorical data\n",
    "ds_jobs_clean['job_change'] = ds_jobs.job_change.astype('int32')"
   ]
  },
  {
   "cell_type": "code",
   "execution_count": 20,
   "id": "8e028087-e5f3-466d-917d-23e21b66d001",
   "metadata": {
    "executionCancelledAt": null,
    "executionTime": 48,
    "lastExecutedAt": 1703966489455,
    "lastScheduledRunId": null,
    "lastSuccessfullyExecutedCode": "ds_jobs_clean.info()",
    "outputsMetadata": {
     "0": {
      "height": 437,
      "type": "stream"
     }
    }
   },
   "outputs": [
    {
     "name": "stdout",
     "output_type": "stream",
     "text": [
      "<class 'pandas.core.frame.DataFrame'>\n",
      "RangeIndex: 19158 entries, 0 to 19157\n",
      "Data columns (total 14 columns):\n",
      " #   Column                  Non-Null Count  Dtype   \n",
      "---  ------                  --------------  -----   \n",
      " 0   student_id              19158 non-null  int32   \n",
      " 1   city                    19158 non-null  category\n",
      " 2   city_development_index  19158 non-null  float16 \n",
      " 3   gender                  14650 non-null  category\n",
      " 4   relevant_experience     19158 non-null  category\n",
      " 5   enrolled_university     18772 non-null  category\n",
      " 6   education_level         18698 non-null  category\n",
      " 7   major_discipline        16345 non-null  category\n",
      " 8   experience              19093 non-null  category\n",
      " 9   company_size            13220 non-null  category\n",
      " 10  company_type            13018 non-null  category\n",
      " 11  last_new_job            18735 non-null  category\n",
      " 12  training_hours          19158 non-null  int32   \n",
      " 13  job_change              19158 non-null  int32   \n",
      "dtypes: category(10), float16(1), int32(3)\n",
      "memory usage: 456.5 KB\n"
     ]
    }
   ],
   "source": [
    "ds_jobs_clean.info()"
   ]
  },
  {
   "cell_type": "code",
   "execution_count": 21,
   "id": "dcc5cf61-d0be-4172-a190-198b8a70fd07",
   "metadata": {
    "executionCancelledAt": null,
    "executionTime": 65,
    "lastExecutedAt": 1703966489520,
    "lastScheduledRunId": null,
    "lastSuccessfullyExecutedCode": "ds_jobs_clean = ds_jobs_clean[(ds_jobs_clean['experience'] >= '10') & (ds_jobs_clean['company_size'] >= '1000-4999') ]\nds_jobs_clean",
    "outputsMetadata": {
     "0": {
      "height": 323,
      "type": "dataFrame"
     }
    }
   },
   "outputs": [
    {
     "data": {
      "text/html": [
       "<div>\n",
       "<style scoped>\n",
       "    .dataframe tbody tr th:only-of-type {\n",
       "        vertical-align: middle;\n",
       "    }\n",
       "\n",
       "    .dataframe tbody tr th {\n",
       "        vertical-align: top;\n",
       "    }\n",
       "\n",
       "    .dataframe thead th {\n",
       "        text-align: right;\n",
       "    }\n",
       "</style>\n",
       "<table border=\"1\" class=\"dataframe\">\n",
       "  <thead>\n",
       "    <tr style=\"text-align: right;\">\n",
       "      <th></th>\n",
       "      <th>student_id</th>\n",
       "      <th>city</th>\n",
       "      <th>city_development_index</th>\n",
       "      <th>gender</th>\n",
       "      <th>relevant_experience</th>\n",
       "      <th>enrolled_university</th>\n",
       "      <th>education_level</th>\n",
       "      <th>major_discipline</th>\n",
       "      <th>experience</th>\n",
       "      <th>company_size</th>\n",
       "      <th>company_type</th>\n",
       "      <th>last_new_job</th>\n",
       "      <th>training_hours</th>\n",
       "      <th>job_change</th>\n",
       "    </tr>\n",
       "  </thead>\n",
       "  <tbody>\n",
       "    <tr>\n",
       "      <th>9</th>\n",
       "      <td>699</td>\n",
       "      <td>city_103</td>\n",
       "      <td>0.919922</td>\n",
       "      <td>NaN</td>\n",
       "      <td>Has relevant experience</td>\n",
       "      <td>no_enrollment</td>\n",
       "      <td>Graduate</td>\n",
       "      <td>STEM</td>\n",
       "      <td>17</td>\n",
       "      <td>10000+</td>\n",
       "      <td>Pvt Ltd</td>\n",
       "      <td>&gt;4</td>\n",
       "      <td>123</td>\n",
       "      <td>0</td>\n",
       "    </tr>\n",
       "    <tr>\n",
       "      <th>12</th>\n",
       "      <td>25619</td>\n",
       "      <td>city_61</td>\n",
       "      <td>0.913086</td>\n",
       "      <td>Male</td>\n",
       "      <td>Has relevant experience</td>\n",
       "      <td>no_enrollment</td>\n",
       "      <td>Graduate</td>\n",
       "      <td>STEM</td>\n",
       "      <td>&gt;20</td>\n",
       "      <td>1000-4999</td>\n",
       "      <td>Pvt Ltd</td>\n",
       "      <td>3</td>\n",
       "      <td>23</td>\n",
       "      <td>0</td>\n",
       "    </tr>\n",
       "    <tr>\n",
       "      <th>31</th>\n",
       "      <td>22293</td>\n",
       "      <td>city_103</td>\n",
       "      <td>0.919922</td>\n",
       "      <td>Male</td>\n",
       "      <td>Has relevant experience</td>\n",
       "      <td>Part time course</td>\n",
       "      <td>Graduate</td>\n",
       "      <td>STEM</td>\n",
       "      <td>19</td>\n",
       "      <td>5000-9999</td>\n",
       "      <td>Pvt Ltd</td>\n",
       "      <td>&gt;4</td>\n",
       "      <td>141</td>\n",
       "      <td>0</td>\n",
       "    </tr>\n",
       "    <tr>\n",
       "      <th>34</th>\n",
       "      <td>26494</td>\n",
       "      <td>city_16</td>\n",
       "      <td>0.910156</td>\n",
       "      <td>Male</td>\n",
       "      <td>Has relevant experience</td>\n",
       "      <td>no_enrollment</td>\n",
       "      <td>Graduate</td>\n",
       "      <td>Business Degree</td>\n",
       "      <td>12</td>\n",
       "      <td>5000-9999</td>\n",
       "      <td>Pvt Ltd</td>\n",
       "      <td>3</td>\n",
       "      <td>145</td>\n",
       "      <td>0</td>\n",
       "    </tr>\n",
       "    <tr>\n",
       "      <th>40</th>\n",
       "      <td>2547</td>\n",
       "      <td>city_114</td>\n",
       "      <td>0.925781</td>\n",
       "      <td>Female</td>\n",
       "      <td>Has relevant experience</td>\n",
       "      <td>Full time course</td>\n",
       "      <td>Masters</td>\n",
       "      <td>STEM</td>\n",
       "      <td>16</td>\n",
       "      <td>1000-4999</td>\n",
       "      <td>Public Sector</td>\n",
       "      <td>2</td>\n",
       "      <td>14</td>\n",
       "      <td>0</td>\n",
       "    </tr>\n",
       "    <tr>\n",
       "      <th>...</th>\n",
       "      <td>...</td>\n",
       "      <td>...</td>\n",
       "      <td>...</td>\n",
       "      <td>...</td>\n",
       "      <td>...</td>\n",
       "      <td>...</td>\n",
       "      <td>...</td>\n",
       "      <td>...</td>\n",
       "      <td>...</td>\n",
       "      <td>...</td>\n",
       "      <td>...</td>\n",
       "      <td>...</td>\n",
       "      <td>...</td>\n",
       "      <td>...</td>\n",
       "    </tr>\n",
       "    <tr>\n",
       "      <th>19097</th>\n",
       "      <td>25447</td>\n",
       "      <td>city_103</td>\n",
       "      <td>0.919922</td>\n",
       "      <td>Male</td>\n",
       "      <td>Has relevant experience</td>\n",
       "      <td>no_enrollment</td>\n",
       "      <td>Graduate</td>\n",
       "      <td>STEM</td>\n",
       "      <td>&gt;20</td>\n",
       "      <td>1000-4999</td>\n",
       "      <td>Pvt Ltd</td>\n",
       "      <td>&gt;4</td>\n",
       "      <td>57</td>\n",
       "      <td>0</td>\n",
       "    </tr>\n",
       "    <tr>\n",
       "      <th>19101</th>\n",
       "      <td>6803</td>\n",
       "      <td>city_16</td>\n",
       "      <td>0.910156</td>\n",
       "      <td>Male</td>\n",
       "      <td>Has relevant experience</td>\n",
       "      <td>no_enrollment</td>\n",
       "      <td>High School</td>\n",
       "      <td>NaN</td>\n",
       "      <td>10</td>\n",
       "      <td>10000+</td>\n",
       "      <td>Pvt Ltd</td>\n",
       "      <td>1</td>\n",
       "      <td>89</td>\n",
       "      <td>0</td>\n",
       "    </tr>\n",
       "    <tr>\n",
       "      <th>19103</th>\n",
       "      <td>32932</td>\n",
       "      <td>city_10</td>\n",
       "      <td>0.895020</td>\n",
       "      <td>Male</td>\n",
       "      <td>Has relevant experience</td>\n",
       "      <td>Part time course</td>\n",
       "      <td>Masters</td>\n",
       "      <td>Other</td>\n",
       "      <td>&gt;20</td>\n",
       "      <td>1000-4999</td>\n",
       "      <td>Pvt Ltd</td>\n",
       "      <td>&gt;4</td>\n",
       "      <td>18</td>\n",
       "      <td>0</td>\n",
       "    </tr>\n",
       "    <tr>\n",
       "      <th>19128</th>\n",
       "      <td>3365</td>\n",
       "      <td>city_16</td>\n",
       "      <td>0.910156</td>\n",
       "      <td>NaN</td>\n",
       "      <td>Has relevant experience</td>\n",
       "      <td>no_enrollment</td>\n",
       "      <td>Graduate</td>\n",
       "      <td>Humanities</td>\n",
       "      <td>&gt;20</td>\n",
       "      <td>1000-4999</td>\n",
       "      <td>Pvt Ltd</td>\n",
       "      <td>&gt;4</td>\n",
       "      <td>23</td>\n",
       "      <td>0</td>\n",
       "    </tr>\n",
       "    <tr>\n",
       "      <th>19143</th>\n",
       "      <td>33047</td>\n",
       "      <td>city_103</td>\n",
       "      <td>0.919922</td>\n",
       "      <td>Male</td>\n",
       "      <td>Has relevant experience</td>\n",
       "      <td>no_enrollment</td>\n",
       "      <td>Graduate</td>\n",
       "      <td>STEM</td>\n",
       "      <td>&gt;20</td>\n",
       "      <td>10000+</td>\n",
       "      <td>Pvt Ltd</td>\n",
       "      <td>&gt;4</td>\n",
       "      <td>18</td>\n",
       "      <td>0</td>\n",
       "    </tr>\n",
       "  </tbody>\n",
       "</table>\n",
       "<p>2201 rows × 14 columns</p>\n",
       "</div>"
      ],
      "text/plain": [
       "       student_id      city  city_development_index  gender  \\\n",
       "9             699  city_103                0.919922     NaN   \n",
       "12          25619   city_61                0.913086    Male   \n",
       "31          22293  city_103                0.919922    Male   \n",
       "34          26494   city_16                0.910156    Male   \n",
       "40           2547  city_114                0.925781  Female   \n",
       "...           ...       ...                     ...     ...   \n",
       "19097       25447  city_103                0.919922    Male   \n",
       "19101        6803   city_16                0.910156    Male   \n",
       "19103       32932   city_10                0.895020    Male   \n",
       "19128        3365   city_16                0.910156     NaN   \n",
       "19143       33047  city_103                0.919922    Male   \n",
       "\n",
       "           relevant_experience enrolled_university education_level  \\\n",
       "9      Has relevant experience       no_enrollment        Graduate   \n",
       "12     Has relevant experience       no_enrollment        Graduate   \n",
       "31     Has relevant experience    Part time course        Graduate   \n",
       "34     Has relevant experience       no_enrollment        Graduate   \n",
       "40     Has relevant experience    Full time course         Masters   \n",
       "...                        ...                 ...             ...   \n",
       "19097  Has relevant experience       no_enrollment        Graduate   \n",
       "19101  Has relevant experience       no_enrollment     High School   \n",
       "19103  Has relevant experience    Part time course         Masters   \n",
       "19128  Has relevant experience       no_enrollment        Graduate   \n",
       "19143  Has relevant experience       no_enrollment        Graduate   \n",
       "\n",
       "      major_discipline experience company_size   company_type last_new_job  \\\n",
       "9                 STEM         17       10000+        Pvt Ltd           >4   \n",
       "12                STEM        >20    1000-4999        Pvt Ltd            3   \n",
       "31                STEM         19    5000-9999        Pvt Ltd           >4   \n",
       "34     Business Degree         12    5000-9999        Pvt Ltd            3   \n",
       "40                STEM         16    1000-4999  Public Sector            2   \n",
       "...                ...        ...          ...            ...          ...   \n",
       "19097             STEM        >20    1000-4999        Pvt Ltd           >4   \n",
       "19101              NaN         10       10000+        Pvt Ltd            1   \n",
       "19103            Other        >20    1000-4999        Pvt Ltd           >4   \n",
       "19128       Humanities        >20    1000-4999        Pvt Ltd           >4   \n",
       "19143             STEM        >20       10000+        Pvt Ltd           >4   \n",
       "\n",
       "       training_hours  job_change  \n",
       "9                 123           0  \n",
       "12                 23           0  \n",
       "31                141           0  \n",
       "34                145           0  \n",
       "40                 14           0  \n",
       "...               ...         ...  \n",
       "19097              57           0  \n",
       "19101              89           0  \n",
       "19103              18           0  \n",
       "19128              23           0  \n",
       "19143              18           0  \n",
       "\n",
       "[2201 rows x 14 columns]"
      ]
     },
     "execution_count": 21,
     "metadata": {},
     "output_type": "execute_result"
    }
   ],
   "source": [
    "ds_jobs_clean = ds_jobs_clean[(ds_jobs_clean['experience'] >= '10') & (ds_jobs_clean['company_size'] >= '1000-4999') ]\n",
    "ds_jobs_clean"
   ]
  }
 ],
 "metadata": {
  "editor": "DataCamp Workspace",
  "kernelspec": {
   "display_name": "Python 3 (ipykernel)",
   "language": "python",
   "name": "python3"
  },
  "language_info": {
   "codemirror_mode": {
    "name": "ipython",
    "version": 3
   },
   "file_extension": ".py",
   "mimetype": "text/x-python",
   "name": "python",
   "nbconvert_exporter": "python",
   "pygments_lexer": "ipython3",
   "version": "3.10.9"
  }
 },
 "nbformat": 4,
 "nbformat_minor": 5
}
